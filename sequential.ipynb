{
 "cells": [
  {
   "cell_type": "code",
   "execution_count": 4,
   "metadata": {},
   "outputs": [],
   "source": [
    "# Global Imports\n",
    "import pandas as pd\n",
    "import numpy as np\n",
    "from tensorflow.keras.preprocessing.sequence import pad_sequences\n",
    "\n",
    "from keras.models import Sequential\n",
    "from keras.layers import LSTM, Dense, Embedding, Flatten, Dropout, Input\n",
    "from keras.utils import to_categorical\n",
    "from tensorflow.keras.models import Model\n",
    "\n",
    "\n",
    "from sklearn.model_selection import train_test_split\n",
    "from sklearn.preprocessing import MinMaxScaler, LabelEncoder\n",
    "\n",
    "from keras.optimizers import Adam\n",
    "\n",
    "\n",
    "import joblib\n"
   ]
  },
  {
   "cell_type": "code",
   "execution_count": 5,
   "metadata": {},
   "outputs": [
    {
     "data": {
      "text/html": [
       "<div>\n",
       "<style scoped>\n",
       "    .dataframe tbody tr th:only-of-type {\n",
       "        vertical-align: middle;\n",
       "    }\n",
       "\n",
       "    .dataframe tbody tr th {\n",
       "        vertical-align: top;\n",
       "    }\n",
       "\n",
       "    .dataframe thead th {\n",
       "        text-align: right;\n",
       "    }\n",
       "</style>\n",
       "<table border=\"1\" class=\"dataframe\">\n",
       "  <thead>\n",
       "    <tr style=\"text-align: right;\">\n",
       "      <th></th>\n",
       "      <th>Onset_Beats</th>\n",
       "      <th>Duration_Beats</th>\n",
       "      <th>Midi_Channel</th>\n",
       "      <th>Midi_Pitch</th>\n",
       "      <th>Velocity</th>\n",
       "      <th>Onset_Sec</th>\n",
       "      <th>Duration_Sec</th>\n",
       "      <th>Composer</th>\n",
       "      <th>Piece</th>\n",
       "    </tr>\n",
       "  </thead>\n",
       "  <tbody>\n",
       "    <tr>\n",
       "      <th>0</th>\n",
       "      <td>1.0</td>\n",
       "      <td>1.000000</td>\n",
       "      <td>2</td>\n",
       "      <td>59</td>\n",
       "      <td>127</td>\n",
       "      <td>0.000000</td>\n",
       "      <td>0.521739</td>\n",
       "      <td>abel</td>\n",
       "      <td>sonata_e_minor_1_(nc)werths</td>\n",
       "    </tr>\n",
       "    <tr>\n",
       "      <th>1</th>\n",
       "      <td>2.0</td>\n",
       "      <td>2.000000</td>\n",
       "      <td>2</td>\n",
       "      <td>67</td>\n",
       "      <td>127</td>\n",
       "      <td>0.521739</td>\n",
       "      <td>1.043478</td>\n",
       "      <td>abel</td>\n",
       "      <td>sonata_e_minor_1_(nc)werths</td>\n",
       "    </tr>\n",
       "    <tr>\n",
       "      <th>2</th>\n",
       "      <td>4.0</td>\n",
       "      <td>0.500000</td>\n",
       "      <td>2</td>\n",
       "      <td>66</td>\n",
       "      <td>127</td>\n",
       "      <td>1.565217</td>\n",
       "      <td>0.260869</td>\n",
       "      <td>abel</td>\n",
       "      <td>sonata_e_minor_1_(nc)werths</td>\n",
       "    </tr>\n",
       "    <tr>\n",
       "      <th>3</th>\n",
       "      <td>4.5</td>\n",
       "      <td>0.483333</td>\n",
       "      <td>2</td>\n",
       "      <td>64</td>\n",
       "      <td>127</td>\n",
       "      <td>1.826086</td>\n",
       "      <td>0.252174</td>\n",
       "      <td>abel</td>\n",
       "      <td>sonata_e_minor_1_(nc)werths</td>\n",
       "    </tr>\n",
       "    <tr>\n",
       "      <th>4</th>\n",
       "      <td>5.0</td>\n",
       "      <td>0.333333</td>\n",
       "      <td>2</td>\n",
       "      <td>63</td>\n",
       "      <td>127</td>\n",
       "      <td>2.086956</td>\n",
       "      <td>0.173913</td>\n",
       "      <td>abel</td>\n",
       "      <td>sonata_e_minor_1_(nc)werths</td>\n",
       "    </tr>\n",
       "  </tbody>\n",
       "</table>\n",
       "</div>"
      ],
      "text/plain": [
       "   Onset_Beats  Duration_Beats  Midi_Channel  Midi_Pitch  Velocity  Onset_Sec  \\\n",
       "0          1.0        1.000000             2          59       127   0.000000   \n",
       "1          2.0        2.000000             2          67       127   0.521739   \n",
       "2          4.0        0.500000             2          66       127   1.565217   \n",
       "3          4.5        0.483333             2          64       127   1.826086   \n",
       "4          5.0        0.333333             2          63       127   2.086956   \n",
       "\n",
       "   Duration_Sec Composer                        Piece  \n",
       "0      0.521739     abel  sonata_e_minor_1_(nc)werths  \n",
       "1      1.043478     abel  sonata_e_minor_1_(nc)werths  \n",
       "2      0.260869     abel  sonata_e_minor_1_(nc)werths  \n",
       "3      0.252174     abel  sonata_e_minor_1_(nc)werths  \n",
       "4      0.173913     abel  sonata_e_minor_1_(nc)werths  "
      ]
     },
     "execution_count": 5,
     "metadata": {},
     "output_type": "execute_result"
    }
   ],
   "source": [
    "# Load csv data\n",
    "data = pd.read_csv('midi_training.csv')\n",
    "\n",
    "data.head()"
   ]
  },
  {
   "cell_type": "code",
   "execution_count": 6,
   "metadata": {},
   "outputs": [],
   "source": [
    "# Features are everything except 'Midi_Pitch', 'Composer', and 'Piece'\n",
    "X = data.drop(['Midi_Pitch', 'Composer', 'Piece'], axis=1).values\n",
    "\n",
    "# Target variables: 'Midi_Pitch', 'Composer', and 'Piece' are categorical\n",
    "y_continuous = data[['Onset_Beats', 'Duration_Beats', 'Midi_Channel', 'Velocity', 'Onset_Sec', 'Duration_Sec']].values\n",
    "y_midi_pitch = data['Midi_Pitch'].values\n",
    "y_composer = data['Composer'].values\n",
    "y_piece = data['Piece'].values"
   ]
  },
  {
   "cell_type": "code",
   "execution_count": 7,
   "metadata": {},
   "outputs": [
    {
     "name": "stdout",
     "output_type": "stream",
     "text": [
      "Unique Midi_Pitch values: [38 39 40 41 42 43 44 45 46 47 48 49 50 51 52 53 54 55 56 57 58 59 60 61\n",
      " 62 63 64 65 66 67 68 69 70 71 72 73 74 75 76 77 78 79 80 81 82 83 84]\n",
      "Unique Composer values: ['abel' 'albrechtsberger' 'lasso' 'lidon']\n",
      "Unique Piece values: [' duet 3f (gangi)' 'discendite_a_me_(mccloskey)'\n",
      " 'expandi_manus_(mccloskey)' 'intellectum_tibi_(mccloskey)'\n",
      " 'oculus_non_vidit_(mccloskey)' 'quartet_in_concert_form_2-3_(c)pajares'\n",
      " 'quartet_in_concert_from_1_(c)pajares' 'sonata_e_minor_1_(nc)werths']\n"
     ]
    }
   ],
   "source": [
    "# Check the unique values for Midi_Pitch, Composer, Piece\n",
    "print(\"Unique Midi_Pitch values:\", np.unique(data['Midi_Pitch']))\n",
    "print(\"Unique Composer values:\", np.unique(data['Composer']))\n",
    "print(\"Unique Piece values:\", np.unique(data['Piece']))"
   ]
  },
  {
   "cell_type": "code",
   "execution_count": 8,
   "metadata": {},
   "outputs": [],
   "source": [
    "# Step 3: Normalize the features (except for categorical ones)\n",
    "scaler = MinMaxScaler()\n",
    "X = scaler.fit_transform(X)\n"
   ]
  },
  {
   "cell_type": "code",
   "execution_count": 9,
   "metadata": {},
   "outputs": [],
   "source": [
    "# Step 4: Encode categorical features ('Midi_Pitch', 'Composer', and 'Piece')\n",
    "encoder_midi_pitch = LabelEncoder()\n",
    "encoder_composer = LabelEncoder()\n",
    "encoder_piece = LabelEncoder()"
   ]
  },
  {
   "cell_type": "code",
   "execution_count": 10,
   "metadata": {},
   "outputs": [],
   "source": [
    "y_midi_pitch = encoder_midi_pitch.fit_transform(y_midi_pitch)\n",
    "y_composer = encoder_composer.fit_transform(y_composer)\n",
    "y_piece = encoder_piece.fit_transform(y_piece)"
   ]
  },
  {
   "cell_type": "code",
   "execution_count": 11,
   "metadata": {},
   "outputs": [
    {
     "name": "stdout",
     "output_type": "stream",
     "text": [
      "Encoded Midi_Pitch values: [ 0  1  2  3  4  5  6  7  8  9 10 11 12 13 14 15 16 17 18 19 20 21 22 23\n",
      " 24 25 26 27 28 29 30 31 32 33 34 35 36 37 38 39 40 41 42 43 44 45 46]\n",
      "Encoded Composer values: [0 1 2 3]\n",
      "Encoded Piece values: [0 1 2 3 4 5 6 7]\n"
     ]
    }
   ],
   "source": [
    "print(\"Encoded Midi_Pitch values:\", np.unique(y_midi_pitch))\n",
    "print(\"Encoded Composer values:\", np.unique(y_composer))\n",
    "print(\"Encoded Piece values:\", np.unique(y_piece))"
   ]
  },
  {
   "cell_type": "code",
   "execution_count": 12,
   "metadata": {},
   "outputs": [],
   "source": [
    "# Step 5: Create sequences for the model\n",
    "def create_sequences(data, sequence_length):\n",
    "    sequences = []\n",
    "    for i in range(len(data) - sequence_length):\n",
    "        sequences.append(data[i:i + sequence_length])\n",
    "    return np.array(sequences)\n",
    "\n",
    "def create_target_sequences(data, sequence_length):\n",
    "    target_sequences = []\n",
    "    for i in range(len(data) - sequence_length):\n",
    "        target_sequences.append(data[i + sequence_length])  # Shift by one step\n",
    "    return np.array(target_sequences)"
   ]
  },
  {
   "cell_type": "code",
   "execution_count": 13,
   "metadata": {},
   "outputs": [],
   "source": [
    "sequence_length = 10  # The length of each sequence\n",
    "\n",
    "# Creating sequences for X (input data)\n",
    "X_seq = create_sequences(X, sequence_length)\n",
    "\n",
    "# Creating target sequences for continuous variables\n",
    "y_continuous_seq = create_target_sequences(y_continuous, sequence_length)"
   ]
  },
  {
   "cell_type": "code",
   "execution_count": 14,
   "metadata": {},
   "outputs": [],
   "source": [
    "# Creating target sequences for categorical variables\n",
    "y_midi_pitch_seq = create_target_sequences(y_midi_pitch, sequence_length)\n",
    "y_composer_seq = create_target_sequences(y_composer, sequence_length)\n",
    "y_piece_seq = create_target_sequences(y_piece, sequence_length)"
   ]
  },
  {
   "cell_type": "code",
   "execution_count": 15,
   "metadata": {},
   "outputs": [],
   "source": [
    "# Step 6: Train-test split (80% train, 20% test)\n",
    "train_size = int(len(X_seq) * 0.8)\n",
    "X_train_seq, X_test_seq = X_seq[:train_size], X_seq[train_size:]\n",
    "y_train_continuous_seq, y_test_continuous_seq = y_continuous_seq[:train_size], y_continuous_seq[train_size:]\n",
    "y_train_midi_pitch_seq, y_test_midi_pitch_seq = y_midi_pitch_seq[:train_size], y_midi_pitch_seq[train_size:]\n",
    "y_train_composer_seq, y_test_composer_seq = y_composer_seq[:train_size], y_composer_seq[train_size:]\n",
    "y_train_piece_seq, y_test_piece_seq = y_piece_seq[:train_size], y_piece_seq[train_size:]"
   ]
  },
  {
   "cell_type": "code",
   "execution_count": 16,
   "metadata": {},
   "outputs": [],
   "source": [
    "# Step 7: Build the model\n",
    "input_layer = Input(shape=(sequence_length, X_train_seq.shape[2]))"
   ]
  },
  {
   "cell_type": "code",
   "execution_count": 17,
   "metadata": {},
   "outputs": [],
   "source": [
    "# LSTM layers\n",
    "x = LSTM(128, return_sequences=True)(input_layer)\n",
    "x = Dropout(0.2)(x)\n",
    "x = LSTM(128)(x)\n",
    "x = Dropout(0.2)(x)"
   ]
  },
  {
   "cell_type": "code",
   "execution_count": 18,
   "metadata": {},
   "outputs": [],
   "source": [
    "# Continuous output (e.g., Onset_Beats, Duration_Beats, etc.)\n",
    "continuous_output = Dense(y_train_continuous_seq.shape[1], activation='linear', name='continuous_output')(x)\n",
    "\n",
    "# Categorical outputs (e.g., Midi_Pitch, Composer, Piece)\n",
    "midi_pitch_output = Dense(6, activation='softmax', name='midi_pitch_output')(x)\n",
    "composer_output = Dense(47, activation='softmax', name='composer_output')(x)\n",
    "piece_output = Dense(8, activation='softmax', name='piece_output')(x)"
   ]
  },
  {
   "cell_type": "code",
   "execution_count": 19,
   "metadata": {},
   "outputs": [],
   "source": [
    "# Define the model\n",
    "model = Model(inputs=input_layer, outputs=[continuous_output, midi_pitch_output, composer_output, piece_output])\n"
   ]
  },
  {
   "cell_type": "code",
   "execution_count": 20,
   "metadata": {},
   "outputs": [],
   "source": [
    "# Compile the model with metrics for each output\n",
    "model.compile(optimizer=Adam(), \n",
    "              loss={'continuous_output': 'mse', \n",
    "                    'midi_pitch_output': 'sparse_categorical_crossentropy', \n",
    "                    'composer_output': 'sparse_categorical_crossentropy', \n",
    "                    'piece_output': 'sparse_categorical_crossentropy'},\n",
    "              metrics={'continuous_output': ['mae'],  # Mean Absolute Error for continuous outputs\n",
    "                       'midi_pitch_output': ['accuracy'], \n",
    "                       'composer_output': ['accuracy'], \n",
    "                       'piece_output': ['accuracy']})"
   ]
  },
  {
   "cell_type": "code",
   "execution_count": 21,
   "metadata": {},
   "outputs": [
    {
     "name": "stdout",
     "output_type": "stream",
     "text": [
      "Epoch 1/50\n"
     ]
    },
    {
     "name": "stdout",
     "output_type": "stream",
     "text": [
      "\u001b[1m81/81\u001b[0m \u001b[32m━━━━━━━━━━━━━━━━━━━━\u001b[0m\u001b[37m\u001b[0m \u001b[1m5s\u001b[0m 16ms/step - composer_output_accuracy: 0.0012 - composer_output_loss: 3.7306 - continuous_output_loss: 2.6420 - continuous_output_mae: 64.0599 - loss: 12110.8965 - midi_pitch_output_accuracy: 0.0018 - midi_pitch_output_loss: 12102.4854 - piece_output_accuracy: 0.3134 - piece_output_loss: 1.8740 - val_composer_output_accuracy: 0.0000e+00 - val_composer_output_loss: 3.5075 - val_continuous_output_loss: 1.7918 - val_continuous_output_mae: 70.9676 - val_loss: 14954.1670 - val_midi_pitch_output_accuracy: 0.0031 - val_midi_pitch_output_loss: 15920.2754 - val_piece_output_accuracy: 0.0000e+00 - val_piece_output_loss: 2.2522\n",
      "Epoch 2/50\n",
      "\u001b[1m81/81\u001b[0m \u001b[32m━━━━━━━━━━━━━━━━━━━━\u001b[0m\u001b[37m\u001b[0m \u001b[1m1s\u001b[0m 10ms/step - composer_output_accuracy: 0.0000e+00 - composer_output_loss: 3.4484 - continuous_output_loss: 1.8023 - continuous_output_mae: 65.0877 - loss: 12072.5674 - midi_pitch_output_accuracy: 8.1520e-04 - midi_pitch_output_loss: 12065.9434 - piece_output_accuracy: 0.3555 - piece_output_loss: 1.5786 - val_composer_output_accuracy: 0.0000e+00 - val_composer_output_loss: 3.5891 - val_continuous_output_loss: 1.7918 - val_continuous_output_mae: 71.3093 - val_loss: 14954.3359 - val_midi_pitch_output_accuracy: 0.0031 - val_midi_pitch_output_loss: 15920.3105 - val_piece_output_accuracy: 0.0000e+00 - val_piece_output_loss: 2.3193\n",
      "Epoch 3/50\n",
      "\u001b[1m81/81\u001b[0m \u001b[32m━━━━━━━━━━━━━━━━━━━━\u001b[0m\u001b[37m\u001b[0m \u001b[1m1s\u001b[0m 10ms/step - composer_output_accuracy: 0.0000e+00 - composer_output_loss: 3.4504 - continuous_output_loss: 1.7973 - continuous_output_mae: 64.2823 - loss: 11671.8779 - midi_pitch_output_accuracy: 9.1514e-04 - midi_pitch_output_loss: 11664.9912 - piece_output_accuracy: 0.3625 - piece_output_loss: 1.5842 - val_composer_output_accuracy: 0.0000e+00 - val_composer_output_loss: 3.5284 - val_continuous_output_loss: 1.7918 - val_continuous_output_mae: 71.3850 - val_loss: 14954.3652 - val_midi_pitch_output_accuracy: 0.0031 - val_midi_pitch_output_loss: 15920.2871 - val_piece_output_accuracy: 0.0000e+00 - val_piece_output_loss: 2.4302\n",
      "Epoch 4/50\n",
      "\u001b[1m81/81\u001b[0m \u001b[32m━━━━━━━━━━━━━━━━━━━━\u001b[0m\u001b[37m\u001b[0m \u001b[1m1s\u001b[0m 10ms/step - composer_output_accuracy: 0.0000e+00 - composer_output_loss: 3.4063 - continuous_output_loss: 1.7918 - continuous_output_mae: 65.3361 - loss: 12093.7617 - midi_pitch_output_accuracy: 4.2865e-04 - midi_pitch_output_loss: 12087.2920 - piece_output_accuracy: 0.4547 - piece_output_loss: 1.3861 - val_composer_output_accuracy: 0.0000e+00 - val_composer_output_loss: 3.5016 - val_continuous_output_loss: 1.7918 - val_continuous_output_mae: 71.2776 - val_loss: 14954.3115 - val_midi_pitch_output_accuracy: 0.0031 - val_midi_pitch_output_loss: 15920.2930 - val_piece_output_accuracy: 0.0000e+00 - val_piece_output_loss: 2.3924\n",
      "Epoch 5/50\n",
      "\u001b[1m81/81\u001b[0m \u001b[32m━━━━━━━━━━━━━━━━━━━━\u001b[0m\u001b[37m\u001b[0m \u001b[1m1s\u001b[0m 10ms/step - composer_output_accuracy: 0.0000e+00 - composer_output_loss: 3.3502 - continuous_output_loss: 1.8083 - continuous_output_mae: 65.1161 - loss: 12064.9600 - midi_pitch_output_accuracy: 0.0012 - midi_pitch_output_loss: 12058.6904 - piece_output_accuracy: 0.5551 - piece_output_loss: 1.1907 - val_composer_output_accuracy: 0.0000e+00 - val_composer_output_loss: 3.5997 - val_continuous_output_loss: 1.7918 - val_continuous_output_mae: 71.7586 - val_loss: 14953.2832 - val_midi_pitch_output_accuracy: 0.0031 - val_midi_pitch_output_loss: 15919.6299 - val_piece_output_accuracy: 0.0093 - val_piece_output_loss: 1.9473\n",
      "Epoch 6/50\n",
      "\u001b[1m81/81\u001b[0m \u001b[32m━━━━━━━━━━━━━━━━━━━━\u001b[0m\u001b[37m\u001b[0m \u001b[1m1s\u001b[0m 10ms/step - composer_output_accuracy: 0.0000e+00 - composer_output_loss: 3.3555 - continuous_output_loss: 1.7984 - continuous_output_mae: 65.4460 - loss: 11962.9834 - midi_pitch_output_accuracy: 0.0017 - midi_pitch_output_loss: 11956.7695 - piece_output_accuracy: 0.5784 - piece_output_loss: 1.1818 - val_composer_output_accuracy: 0.0000e+00 - val_composer_output_loss: 3.4680 - val_continuous_output_loss: 1.7918 - val_continuous_output_mae: 71.5171 - val_loss: 14953.9053 - val_midi_pitch_output_accuracy: 0.0046 - val_midi_pitch_output_loss: 15920.1133 - val_piece_output_accuracy: 0.0000e+00 - val_piece_output_loss: 2.1687\n",
      "Epoch 7/50\n",
      "\u001b[1m81/81\u001b[0m \u001b[32m━━━━━━━━━━━━━━━━━━━━\u001b[0m\u001b[37m\u001b[0m \u001b[1m1s\u001b[0m 10ms/step - composer_output_accuracy: 0.0000e+00 - composer_output_loss: 3.2786 - continuous_output_loss: 1.7918 - continuous_output_mae: 65.5860 - loss: 12056.4346 - midi_pitch_output_accuracy: 6.6625e-04 - midi_pitch_output_loss: 12050.4746 - piece_output_accuracy: 0.6800 - piece_output_loss: 0.9735 - val_composer_output_accuracy: 0.0000e+00 - val_composer_output_loss: 3.4037 - val_continuous_output_loss: 1.7918 - val_continuous_output_mae: 71.4849 - val_loss: 14953.5098 - val_midi_pitch_output_accuracy: 0.0039 - val_midi_pitch_output_loss: 15919.6162 - val_piece_output_accuracy: 0.0000e+00 - val_piece_output_loss: 2.3603\n",
      "Epoch 8/50\n",
      "\u001b[1m81/81\u001b[0m \u001b[32m━━━━━━━━━━━━━━━━━━━━\u001b[0m\u001b[37m\u001b[0m \u001b[1m1s\u001b[0m 10ms/step - composer_output_accuracy: 0.0000e+00 - composer_output_loss: 3.2138 - continuous_output_loss: 1.7945 - continuous_output_mae: 65.2333 - loss: 12006.9326 - midi_pitch_output_accuracy: 0.0013 - midi_pitch_output_loss: 12000.7744 - piece_output_accuracy: 0.7214 - piece_output_loss: 0.8407 - val_composer_output_accuracy: 0.0000e+00 - val_composer_output_loss: 3.4179 - val_continuous_output_loss: 1.7918 - val_continuous_output_mae: 71.4830 - val_loss: 14953.0879 - val_midi_pitch_output_accuracy: 0.0039 - val_midi_pitch_output_loss: 15919.6250 - val_piece_output_accuracy: 0.1060 - val_piece_output_loss: 1.8958\n",
      "Epoch 9/50\n",
      "\u001b[1m81/81\u001b[0m \u001b[32m━━━━━━━━━━━━━━━━━━━━\u001b[0m\u001b[37m\u001b[0m \u001b[1m1s\u001b[0m 10ms/step - composer_output_accuracy: 0.0000e+00 - composer_output_loss: 3.1839 - continuous_output_loss: 1.7927 - continuous_output_mae: 65.5812 - loss: 12019.0254 - midi_pitch_output_accuracy: 0.0017 - midi_pitch_output_loss: 12013.1973 - piece_output_accuracy: 0.7442 - piece_output_loss: 0.7486 - val_composer_output_accuracy: 0.0000e+00 - val_composer_output_loss: 3.4683 - val_continuous_output_loss: 1.7918 - val_continuous_output_mae: 71.5835 - val_loss: 14953.0977 - val_midi_pitch_output_accuracy: 0.0046 - val_midi_pitch_output_loss: 15919.7246 - val_piece_output_accuracy: 0.1138 - val_piece_output_loss: 1.7781\n",
      "Epoch 10/50\n",
      "\u001b[1m81/81\u001b[0m \u001b[32m━━━━━━━━━━━━━━━━━━━━\u001b[0m\u001b[37m\u001b[0m \u001b[1m1s\u001b[0m 10ms/step - composer_output_accuracy: 0.0000e+00 - composer_output_loss: 3.1453 - continuous_output_loss: 1.7939 - continuous_output_mae: 66.5112 - loss: 12336.7070 - midi_pitch_output_accuracy: 0.0013 - midi_pitch_output_loss: 12331.0723 - piece_output_accuracy: 0.7547 - piece_output_loss: 0.6970 - val_composer_output_accuracy: 0.0000e+00 - val_composer_output_loss: 3.4197 - val_continuous_output_loss: 1.7918 - val_continuous_output_mae: 71.4302 - val_loss: 14953.6621 - val_midi_pitch_output_accuracy: 0.0046 - val_midi_pitch_output_loss: 15920.3955 - val_piece_output_accuracy: 0.1099 - val_piece_output_loss: 1.7041\n",
      "Epoch 11/50\n",
      "\u001b[1m81/81\u001b[0m \u001b[32m━━━━━━━━━━━━━━━━━━━━\u001b[0m\u001b[37m\u001b[0m \u001b[1m1s\u001b[0m 10ms/step - composer_output_accuracy: 0.0000e+00 - composer_output_loss: 3.1470 - continuous_output_loss: 1.7930 - continuous_output_mae: 65.7719 - loss: 12145.1338 - midi_pitch_output_accuracy: 7.0898e-04 - midi_pitch_output_loss: 12139.4434 - piece_output_accuracy: 0.7821 - piece_output_loss: 0.6486 - val_composer_output_accuracy: 0.0000e+00 - val_composer_output_loss: 3.5095 - val_continuous_output_loss: 1.7918 - val_continuous_output_mae: 71.5386 - val_loss: 14951.9717 - val_midi_pitch_output_accuracy: 0.0039 - val_midi_pitch_output_loss: 15919.5957 - val_piece_output_accuracy: 0.5472 - val_piece_output_loss: 0.7610\n",
      "Epoch 12/50\n",
      "\u001b[1m81/81\u001b[0m \u001b[32m━━━━━━━━━━━━━━━━━━━━\u001b[0m\u001b[37m\u001b[0m \u001b[1m1s\u001b[0m 10ms/step - composer_output_accuracy: 0.0000e+00 - composer_output_loss: 3.0925 - continuous_output_loss: 1.7905 - continuous_output_mae: 65.4314 - loss: 11987.0859 - midi_pitch_output_accuracy: 8.8688e-04 - midi_pitch_output_loss: 11981.5508 - piece_output_accuracy: 0.7939 - piece_output_loss: 0.5987 - val_composer_output_accuracy: 0.0000e+00 - val_composer_output_loss: 3.5610 - val_continuous_output_loss: 1.7918 - val_continuous_output_mae: 71.4844 - val_loss: 14951.6982 - val_midi_pitch_output_accuracy: 0.0039 - val_midi_pitch_output_loss: 15919.5518 - val_piece_output_accuracy: 0.8568 - val_piece_output_loss: 0.4923\n",
      "Epoch 13/50\n",
      "\u001b[1m81/81\u001b[0m \u001b[32m━━━━━━━━━━━━━━━━━━━━\u001b[0m\u001b[37m\u001b[0m \u001b[1m1s\u001b[0m 10ms/step - composer_output_accuracy: 0.0000e+00 - composer_output_loss: 3.0265 - continuous_output_loss: 1.7926 - continuous_output_mae: 66.4048 - loss: 12359.8428 - midi_pitch_output_accuracy: 9.7459e-04 - midi_pitch_output_loss: 12354.3301 - piece_output_accuracy: 0.8299 - piece_output_loss: 0.5046 - val_composer_output_accuracy: 0.0000e+00 - val_composer_output_loss: 3.5074 - val_continuous_output_loss: 1.7918 - val_continuous_output_mae: 71.5103 - val_loss: 14951.5605 - val_midi_pitch_output_accuracy: 0.0039 - val_midi_pitch_output_loss: 15919.5625 - val_piece_output_accuracy: 0.8831 - val_piece_output_loss: 0.3944\n",
      "Epoch 14/50\n",
      "\u001b[1m81/81\u001b[0m \u001b[32m━━━━━━━━━━━━━━━━━━━━\u001b[0m\u001b[37m\u001b[0m \u001b[1m1s\u001b[0m 10ms/step - composer_output_accuracy: 0.0000e+00 - composer_output_loss: 2.9902 - continuous_output_loss: 1.7974 - continuous_output_mae: 66.2765 - loss: 12237.9961 - midi_pitch_output_accuracy: 0.0015 - midi_pitch_output_loss: 12232.6357 - piece_output_accuracy: 0.8444 - piece_output_loss: 0.4743 - val_composer_output_accuracy: 0.0000e+00 - val_composer_output_loss: 3.4685 - val_continuous_output_loss: 1.7918 - val_continuous_output_mae: 71.5574 - val_loss: 14951.4102 - val_midi_pitch_output_accuracy: 0.0039 - val_midi_pitch_output_loss: 15919.5684 - val_piece_output_accuracy: 0.8947 - val_piece_output_loss: 0.2630\n",
      "Epoch 15/50\n",
      "\u001b[1m81/81\u001b[0m \u001b[32m━━━━━━━━━━━━━━━━━━━━\u001b[0m\u001b[37m\u001b[0m \u001b[1m1s\u001b[0m 10ms/step - composer_output_accuracy: 0.0000e+00 - composer_output_loss: 2.9379 - continuous_output_loss: 1.7941 - continuous_output_mae: 65.6640 - loss: 11970.4033 - midi_pitch_output_accuracy: 7.0159e-04 - midi_pitch_output_loss: 11965.4492 - piece_output_accuracy: 0.8768 - piece_output_loss: 0.3823 - val_composer_output_accuracy: 0.0000e+00 - val_composer_output_loss: 3.3744 - val_continuous_output_loss: 1.7918 - val_continuous_output_mae: 71.5683 - val_loss: 14951.5713 - val_midi_pitch_output_accuracy: 0.0046 - val_midi_pitch_output_loss: 15919.5996 - val_piece_output_accuracy: 0.7492 - val_piece_output_loss: 0.4761\n",
      "Epoch 16/50\n",
      "\u001b[1m81/81\u001b[0m \u001b[32m━━━━━━━━━━━━━━━━━━━━\u001b[0m\u001b[37m\u001b[0m \u001b[1m1s\u001b[0m 10ms/step - composer_output_accuracy: 0.0000e+00 - composer_output_loss: 2.9384 - continuous_output_loss: 1.7918 - continuous_output_mae: 66.2973 - loss: 12218.4941 - midi_pitch_output_accuracy: 0.0011 - midi_pitch_output_loss: 12213.0566 - piece_output_accuracy: 0.8872 - piece_output_loss: 0.3735 - val_composer_output_accuracy: 0.0000e+00 - val_composer_output_loss: 3.3736 - val_continuous_output_loss: 1.7918 - val_continuous_output_mae: 71.5298 - val_loss: 14951.2168 - val_midi_pitch_output_accuracy: 0.0039 - val_midi_pitch_output_loss: 15919.5234 - val_piece_output_accuracy: 0.9149 - val_piece_output_loss: 0.1933\n",
      "Epoch 17/50\n",
      "\u001b[1m81/81\u001b[0m \u001b[32m━━━━━━━━━━━━━━━━━━━━\u001b[0m\u001b[37m\u001b[0m \u001b[1m1s\u001b[0m 10ms/step - composer_output_accuracy: 0.0000e+00 - composer_output_loss: 2.8689 - continuous_output_loss: 1.7924 - continuous_output_mae: 66.1188 - loss: 12176.8145 - midi_pitch_output_accuracy: 5.3788e-04 - midi_pitch_output_loss: 12171.3633 - piece_output_accuracy: 0.9035 - piece_output_loss: 0.3258 - val_composer_output_accuracy: 0.0000e+00 - val_composer_output_loss: 3.2693 - val_continuous_output_loss: 1.7918 - val_continuous_output_mae: 71.4127 - val_loss: 14951.4736 - val_midi_pitch_output_accuracy: 0.0046 - val_midi_pitch_output_loss: 15919.8418 - val_piece_output_accuracy: 0.9118 - val_piece_output_loss: 0.2054\n",
      "Epoch 18/50\n",
      "\u001b[1m81/81\u001b[0m \u001b[32m━━━━━━━━━━━━━━━━━━━━\u001b[0m\u001b[37m\u001b[0m \u001b[1m1s\u001b[0m 11ms/step - composer_output_accuracy: 0.0000e+00 - composer_output_loss: 2.8271 - continuous_output_loss: 1.7966 - continuous_output_mae: 65.3273 - loss: 11917.1748 - midi_pitch_output_accuracy: 8.1384e-04 - midi_pitch_output_loss: 11912.0986 - piece_output_accuracy: 0.9223 - piece_output_loss: 0.2572 - val_composer_output_accuracy: 0.0000e+00 - val_composer_output_loss: 3.2759 - val_continuous_output_loss: 1.7918 - val_continuous_output_mae: 71.3234 - val_loss: 14950.9678 - val_midi_pitch_output_accuracy: 0.0039 - val_midi_pitch_output_loss: 15919.5137 - val_piece_output_accuracy: 0.9861 - val_piece_output_loss: 0.0436\n",
      "Epoch 19/50\n",
      "\u001b[1m81/81\u001b[0m \u001b[32m━━━━━━━━━━━━━━━━━━━━\u001b[0m\u001b[37m\u001b[0m \u001b[1m1s\u001b[0m 10ms/step - composer_output_accuracy: 0.0000e+00 - composer_output_loss: 2.7810 - continuous_output_loss: 1.7918 - continuous_output_mae: 66.2105 - loss: 12220.9600 - midi_pitch_output_accuracy: 0.0012 - midi_pitch_output_loss: 12216.1113 - piece_output_accuracy: 0.9262 - piece_output_loss: 0.2362 - val_composer_output_accuracy: 0.0000e+00 - val_composer_output_loss: 3.2522 - val_continuous_output_loss: 1.7918 - val_continuous_output_mae: 71.2812 - val_loss: 14950.9707 - val_midi_pitch_output_accuracy: 0.0039 - val_midi_pitch_output_loss: 15919.5117 - val_piece_output_accuracy: 0.9675 - val_piece_output_loss: 0.0586\n",
      "Epoch 20/50\n",
      "\u001b[1m81/81\u001b[0m \u001b[32m━━━━━━━━━━━━━━━━━━━━\u001b[0m\u001b[37m\u001b[0m \u001b[1m1s\u001b[0m 10ms/step - composer_output_accuracy: 0.0000e+00 - composer_output_loss: 2.8086 - continuous_output_loss: 1.7918 - continuous_output_mae: 65.5211 - loss: 12029.1621 - midi_pitch_output_accuracy: 0.0018 - midi_pitch_output_loss: 12024.3184 - piece_output_accuracy: 0.9265 - piece_output_loss: 0.2331 - val_composer_output_accuracy: 0.0000e+00 - val_composer_output_loss: 3.2688 - val_continuous_output_loss: 1.7918 - val_continuous_output_mae: 71.2625 - val_loss: 14951.2939 - val_midi_pitch_output_accuracy: 0.0046 - val_midi_pitch_output_loss: 15919.7207 - val_piece_output_accuracy: 0.9396 - val_piece_output_loss: 0.1357\n",
      "Epoch 21/50\n",
      "\u001b[1m81/81\u001b[0m \u001b[32m━━━━━━━━━━━━━━━━━━━━\u001b[0m\u001b[37m\u001b[0m \u001b[1m1s\u001b[0m 10ms/step - composer_output_accuracy: 0.0000e+00 - composer_output_loss: 2.7773 - continuous_output_loss: 1.7918 - continuous_output_mae: 66.2085 - loss: 12166.5967 - midi_pitch_output_accuracy: 0.0013 - midi_pitch_output_loss: 12161.7041 - piece_output_accuracy: 0.9361 - piece_output_loss: 0.1934 - val_composer_output_accuracy: 0.0000e+00 - val_composer_output_loss: 3.2442 - val_continuous_output_loss: 1.7918 - val_continuous_output_mae: 71.2811 - val_loss: 14950.8896 - val_midi_pitch_output_accuracy: 0.0031 - val_midi_pitch_output_loss: 15919.4375 - val_piece_output_accuracy: 0.9814 - val_piece_output_loss: 0.0602\n",
      "Epoch 22/50\n",
      "\u001b[1m81/81\u001b[0m \u001b[32m━━━━━━━━━━━━━━━━━━━━\u001b[0m\u001b[37m\u001b[0m \u001b[1m1s\u001b[0m 10ms/step - composer_output_accuracy: 0.0000e+00 - composer_output_loss: 2.7101 - continuous_output_loss: 1.7959 - continuous_output_mae: 66.2745 - loss: 12222.4111 - midi_pitch_output_accuracy: 9.5652e-04 - midi_pitch_output_loss: 12217.7881 - piece_output_accuracy: 0.9454 - piece_output_loss: 0.1783 - val_composer_output_accuracy: 0.0000e+00 - val_composer_output_loss: 3.2495 - val_continuous_output_loss: 1.7918 - val_continuous_output_mae: 71.2808 - val_loss: 14950.9209 - val_midi_pitch_output_accuracy: 0.0039 - val_midi_pitch_output_loss: 15919.4580 - val_piece_output_accuracy: 0.9868 - val_piece_output_loss: 0.0496\n",
      "Epoch 23/50\n",
      "\u001b[1m81/81\u001b[0m \u001b[32m━━━━━━━━━━━━━━━━━━━━\u001b[0m\u001b[37m\u001b[0m \u001b[1m1s\u001b[0m 10ms/step - composer_output_accuracy: 0.0000e+00 - composer_output_loss: 2.6989 - continuous_output_loss: 1.7918 - continuous_output_mae: 66.2552 - loss: 12282.8154 - midi_pitch_output_accuracy: 5.3390e-04 - midi_pitch_output_loss: 12278.2568 - piece_output_accuracy: 0.9534 - piece_output_loss: 0.1629 - val_composer_output_accuracy: 0.0000e+00 - val_composer_output_loss: 3.3308 - val_continuous_output_loss: 1.7918 - val_continuous_output_mae: 71.4172 - val_loss: 14951.1582 - val_midi_pitch_output_accuracy: 0.0039 - val_midi_pitch_output_loss: 15919.4639 - val_piece_output_accuracy: 0.9102 - val_piece_output_loss: 0.2088\n",
      "Epoch 24/50\n",
      "\u001b[1m81/81\u001b[0m \u001b[32m━━━━━━━━━━━━━━━━━━━━\u001b[0m\u001b[37m\u001b[0m \u001b[1m1s\u001b[0m 10ms/step - composer_output_accuracy: 0.0000e+00 - composer_output_loss: 2.6668 - continuous_output_loss: 1.7955 - continuous_output_mae: 66.6631 - loss: 12375.3223 - midi_pitch_output_accuracy: 0.0012 - midi_pitch_output_loss: 12370.5732 - piece_output_accuracy: 0.9583 - piece_output_loss: 0.1454 - val_composer_output_accuracy: 0.0000e+00 - val_composer_output_loss: 3.2724 - val_continuous_output_loss: 1.7918 - val_continuous_output_mae: 71.3488 - val_loss: 14950.9658 - val_midi_pitch_output_accuracy: 0.0039 - val_midi_pitch_output_loss: 15919.4492 - val_piece_output_accuracy: 0.9760 - val_piece_output_loss: 0.0792\n",
      "Epoch 25/50\n",
      "\u001b[1m81/81\u001b[0m \u001b[32m━━━━━━━━━━━━━━━━━━━━\u001b[0m\u001b[37m\u001b[0m \u001b[1m1s\u001b[0m 10ms/step - composer_output_accuracy: 0.0000e+00 - composer_output_loss: 2.6368 - continuous_output_loss: 1.7947 - continuous_output_mae: 66.0832 - loss: 12218.7500 - midi_pitch_output_accuracy: 8.1405e-04 - midi_pitch_output_loss: 12214.1680 - piece_output_accuracy: 0.9564 - piece_output_loss: 0.1369 - val_composer_output_accuracy: 0.0000e+00 - val_composer_output_loss: 3.3268 - val_continuous_output_loss: 1.7918 - val_continuous_output_mae: 71.3669 - val_loss: 14951.0928 - val_midi_pitch_output_accuracy: 0.0039 - val_midi_pitch_output_loss: 15919.4717 - val_piece_output_accuracy: 0.9528 - val_piece_output_loss: 0.1300\n",
      "Epoch 26/50\n",
      "\u001b[1m81/81\u001b[0m \u001b[32m━━━━━━━━━━━━━━━━━━━━\u001b[0m\u001b[37m\u001b[0m \u001b[1m1s\u001b[0m 10ms/step - composer_output_accuracy: 0.0000e+00 - composer_output_loss: 2.5904 - continuous_output_loss: 1.7944 - continuous_output_mae: 65.9271 - loss: 12102.0410 - midi_pitch_output_accuracy: 5.3568e-04 - midi_pitch_output_loss: 12097.4971 - piece_output_accuracy: 0.9584 - piece_output_loss: 0.1367 - val_composer_output_accuracy: 0.0000e+00 - val_composer_output_loss: 3.4028 - val_continuous_output_loss: 1.7918 - val_continuous_output_mae: 71.4644 - val_loss: 14951.2383 - val_midi_pitch_output_accuracy: 0.0039 - val_midi_pitch_output_loss: 15919.5049 - val_piece_output_accuracy: 0.9497 - val_piece_output_loss: 0.1777\n",
      "Epoch 27/50\n",
      "\u001b[1m81/81\u001b[0m \u001b[32m━━━━━━━━━━━━━━━━━━━━\u001b[0m\u001b[37m\u001b[0m \u001b[1m1s\u001b[0m 10ms/step - composer_output_accuracy: 0.0000e+00 - composer_output_loss: 2.5861 - continuous_output_loss: 1.7922 - continuous_output_mae: 65.6212 - loss: 12009.1377 - midi_pitch_output_accuracy: 0.0016 - midi_pitch_output_loss: 12004.9443 - piece_output_accuracy: 0.9558 - piece_output_loss: 0.1415 - val_composer_output_accuracy: 0.0000e+00 - val_composer_output_loss: 3.3928 - val_continuous_output_loss: 1.7918 - val_continuous_output_mae: 71.3881 - val_loss: 14951.2354 - val_midi_pitch_output_accuracy: 0.0039 - val_midi_pitch_output_loss: 15919.5049 - val_piece_output_accuracy: 0.9466 - val_piece_output_loss: 0.1762\n",
      "Epoch 28/50\n",
      "\u001b[1m81/81\u001b[0m \u001b[32m━━━━━━━━━━━━━━━━━━━━\u001b[0m\u001b[37m\u001b[0m \u001b[1m1s\u001b[0m 10ms/step - composer_output_accuracy: 1.4435e-05 - composer_output_loss: 2.5836 - continuous_output_loss: 1.7944 - continuous_output_mae: 65.0465 - loss: 11724.9473 - midi_pitch_output_accuracy: 0.0011 - midi_pitch_output_loss: 11720.5986 - piece_output_accuracy: 0.9542 - piece_output_loss: 0.1372 - val_composer_output_accuracy: 0.0000e+00 - val_composer_output_loss: 3.3514 - val_continuous_output_loss: 1.7918 - val_continuous_output_mae: 71.2590 - val_loss: 14951.2119 - val_midi_pitch_output_accuracy: 0.0039 - val_midi_pitch_output_loss: 15919.5654 - val_piece_output_accuracy: 0.9628 - val_piece_output_loss: 0.1291\n",
      "Epoch 29/50\n",
      "\u001b[1m81/81\u001b[0m \u001b[32m━━━━━━━━━━━━━━━━━━━━\u001b[0m\u001b[37m\u001b[0m \u001b[1m1s\u001b[0m 10ms/step - composer_output_accuracy: 0.0018 - composer_output_loss: 2.6348 - continuous_output_loss: 1.7886 - continuous_output_mae: 66.6421 - loss: 12496.5879 - midi_pitch_output_accuracy: 0.0020 - midi_pitch_output_loss: 12492.2363 - piece_output_accuracy: 0.9472 - piece_output_loss: 0.1645 - val_composer_output_accuracy: 0.0000e+00 - val_composer_output_loss: 3.4038 - val_continuous_output_loss: 1.7918 - val_continuous_output_mae: 71.4401 - val_loss: 14951.2041 - val_midi_pitch_output_accuracy: 0.0039 - val_midi_pitch_output_loss: 15919.4580 - val_piece_output_accuracy: 0.9350 - val_piece_output_loss: 0.1763\n",
      "Epoch 30/50\n",
      "\u001b[1m81/81\u001b[0m \u001b[32m━━━━━━━━━━━━━━━━━━━━\u001b[0m\u001b[37m\u001b[0m \u001b[1m1s\u001b[0m 10ms/step - composer_output_accuracy: 0.0000e+00 - composer_output_loss: 2.5841 - continuous_output_loss: 1.7912 - continuous_output_mae: 66.1525 - loss: 12191.2646 - midi_pitch_output_accuracy: 0.0012 - midi_pitch_output_loss: 12186.6914 - piece_output_accuracy: 0.9499 - piece_output_loss: 0.1496 - val_composer_output_accuracy: 0.0000e+00 - val_composer_output_loss: 3.4255 - val_continuous_output_loss: 1.7918 - val_continuous_output_mae: 71.3593 - val_loss: 14951.1738 - val_midi_pitch_output_accuracy: 0.0039 - val_midi_pitch_output_loss: 15919.4775 - val_piece_output_accuracy: 0.9582 - val_piece_output_loss: 0.0972\n",
      "Epoch 31/50\n",
      "\u001b[1m81/81\u001b[0m \u001b[32m━━━━━━━━━━━━━━━━━━━━\u001b[0m\u001b[37m\u001b[0m \u001b[1m1s\u001b[0m 10ms/step - composer_output_accuracy: 0.0000e+00 - composer_output_loss: 2.5390 - continuous_output_loss: 1.7897 - continuous_output_mae: 66.2786 - loss: 12180.6846 - midi_pitch_output_accuracy: 6.0103e-04 - midi_pitch_output_loss: 12176.1533 - piece_output_accuracy: 0.9591 - piece_output_loss: 0.1284 - val_composer_output_accuracy: 0.0000e+00 - val_composer_output_loss: 3.4921 - val_continuous_output_loss: 1.7918 - val_continuous_output_mae: 71.5002 - val_loss: 14951.4043 - val_midi_pitch_output_accuracy: 0.0039 - val_midi_pitch_output_loss: 15919.4482 - val_piece_output_accuracy: 0.8800 - val_piece_output_loss: 0.2951\n",
      "Epoch 32/50\n",
      "\u001b[1m81/81\u001b[0m \u001b[32m━━━━━━━━━━━━━━━━━━━━\u001b[0m\u001b[37m\u001b[0m \u001b[1m1s\u001b[0m 10ms/step - composer_output_accuracy: 0.0000e+00 - composer_output_loss: 2.5564 - continuous_output_loss: 1.7879 - continuous_output_mae: 65.1979 - loss: 11847.6572 - midi_pitch_output_accuracy: 7.0972e-04 - midi_pitch_output_loss: 11843.3887 - piece_output_accuracy: 0.9513 - piece_output_loss: 0.1341 - val_composer_output_accuracy: 0.0000e+00 - val_composer_output_loss: 3.5260 - val_continuous_output_loss: 1.7918 - val_continuous_output_mae: 71.4775 - val_loss: 14951.5000 - val_midi_pitch_output_accuracy: 0.0039 - val_midi_pitch_output_loss: 15919.4551 - val_piece_output_accuracy: 0.8615 - val_piece_output_loss: 0.3498\n",
      "Epoch 33/50\n",
      "\u001b[1m81/81\u001b[0m \u001b[32m━━━━━━━━━━━━━━━━━━━━\u001b[0m\u001b[37m\u001b[0m \u001b[1m1s\u001b[0m 10ms/step - composer_output_accuracy: 0.0000e+00 - composer_output_loss: 2.5266 - continuous_output_loss: 1.7834 - continuous_output_mae: 65.8113 - loss: 12059.6055 - midi_pitch_output_accuracy: 8.2117e-04 - midi_pitch_output_loss: 12055.0342 - piece_output_accuracy: 0.9641 - piece_output_loss: 0.1127 - val_composer_output_accuracy: 0.0000e+00 - val_composer_output_loss: 3.5277 - val_continuous_output_loss: 1.7918 - val_continuous_output_mae: 71.4415 - val_loss: 14951.4072 - val_midi_pitch_output_accuracy: 0.0039 - val_midi_pitch_output_loss: 15919.4424 - val_piece_output_accuracy: 0.9071 - val_piece_output_loss: 0.2736\n",
      "Epoch 34/50\n",
      "\u001b[1m81/81\u001b[0m \u001b[32m━━━━━━━━━━━━━━━━━━━━\u001b[0m\u001b[37m\u001b[0m \u001b[1m1s\u001b[0m 10ms/step - composer_output_accuracy: 0.0000e+00 - composer_output_loss: 2.4903 - continuous_output_loss: 1.7901 - continuous_output_mae: 66.4192 - loss: 12364.6143 - midi_pitch_output_accuracy: 8.1083e-04 - midi_pitch_output_loss: 12360.3398 - piece_output_accuracy: 0.9592 - piece_output_loss: 0.1109 - val_composer_output_accuracy: 0.0000e+00 - val_composer_output_loss: 3.3721 - val_continuous_output_loss: 1.7918 - val_continuous_output_mae: 71.3357 - val_loss: 14951.0352 - val_midi_pitch_output_accuracy: 0.0039 - val_midi_pitch_output_loss: 15919.4082 - val_piece_output_accuracy: 0.9737 - val_piece_output_loss: 0.0909\n",
      "Epoch 35/50\n",
      "\u001b[1m81/81\u001b[0m \u001b[32m━━━━━━━━━━━━━━━━━━━━\u001b[0m\u001b[37m\u001b[0m \u001b[1m1s\u001b[0m 10ms/step - composer_output_accuracy: 3.9278e-04 - composer_output_loss: 2.5086 - continuous_output_loss: 1.7834 - continuous_output_mae: 65.3180 - loss: 11891.2881 - midi_pitch_output_accuracy: 0.0012 - midi_pitch_output_loss: 11886.8213 - piece_output_accuracy: 0.9601 - piece_output_loss: 0.1205 - val_composer_output_accuracy: 0.0000e+00 - val_composer_output_loss: 3.4091 - val_continuous_output_loss: 1.7918 - val_continuous_output_mae: 71.3826 - val_loss: 14951.2334 - val_midi_pitch_output_accuracy: 0.0039 - val_midi_pitch_output_loss: 15919.4492 - val_piece_output_accuracy: 0.9381 - val_piece_output_loss: 0.2159\n",
      "Epoch 36/50\n",
      "\u001b[1m81/81\u001b[0m \u001b[32m━━━━━━━━━━━━━━━━━━━━\u001b[0m\u001b[37m\u001b[0m \u001b[1m1s\u001b[0m 10ms/step - composer_output_accuracy: 0.0000e+00 - composer_output_loss: 2.5129 - continuous_output_loss: 1.7869 - continuous_output_mae: 65.9748 - loss: 12178.7197 - midi_pitch_output_accuracy: 9.6771e-04 - midi_pitch_output_loss: 12174.0400 - piece_output_accuracy: 0.9564 - piece_output_loss: 0.1221 - val_composer_output_accuracy: 0.0000e+00 - val_composer_output_loss: 3.3261 - val_continuous_output_loss: 1.7918 - val_continuous_output_mae: 71.3486 - val_loss: 14951.0244 - val_midi_pitch_output_accuracy: 0.0031 - val_midi_pitch_output_loss: 15919.4805 - val_piece_output_accuracy: 1.0000 - val_piece_output_loss: 0.0654\n",
      "Epoch 37/50\n",
      "\u001b[1m81/81\u001b[0m \u001b[32m━━━━━━━━━━━━━━━━━━━━\u001b[0m\u001b[37m\u001b[0m \u001b[1m1s\u001b[0m 10ms/step - composer_output_accuracy: 0.0000e+00 - composer_output_loss: 2.4812 - continuous_output_loss: 1.7859 - continuous_output_mae: 66.0786 - loss: 12185.3018 - midi_pitch_output_accuracy: 8.0680e-04 - midi_pitch_output_loss: 12180.5889 - piece_output_accuracy: 0.9634 - piece_output_loss: 0.1036 - val_composer_output_accuracy: 0.0000e+00 - val_composer_output_loss: 3.3950 - val_continuous_output_loss: 1.7918 - val_continuous_output_mae: 71.4282 - val_loss: 14951.1133 - val_midi_pitch_output_accuracy: 0.0039 - val_midi_pitch_output_loss: 15919.4258 - val_piece_output_accuracy: 0.9698 - val_piece_output_loss: 0.1278\n",
      "Epoch 38/50\n",
      "\u001b[1m81/81\u001b[0m \u001b[32m━━━━━━━━━━━━━━━━━━━━\u001b[0m\u001b[37m\u001b[0m \u001b[1m1s\u001b[0m 10ms/step - composer_output_accuracy: 0.0000e+00 - composer_output_loss: 2.4648 - continuous_output_loss: 1.7743 - continuous_output_mae: 66.2705 - loss: 12283.2959 - midi_pitch_output_accuracy: 0.0013 - midi_pitch_output_loss: 12278.8721 - piece_output_accuracy: 0.9630 - piece_output_loss: 0.0926 - val_composer_output_accuracy: 0.0000e+00 - val_composer_output_loss: 3.4406 - val_continuous_output_loss: 1.7918 - val_continuous_output_mae: 71.4701 - val_loss: 14951.2217 - val_midi_pitch_output_accuracy: 0.0039 - val_midi_pitch_output_loss: 15919.4297 - val_piece_output_accuracy: 0.9582 - val_piece_output_loss: 0.1918\n",
      "Epoch 39/50\n",
      "\u001b[1m81/81\u001b[0m \u001b[32m━━━━━━━━━━━━━━━━━━━━\u001b[0m\u001b[37m\u001b[0m \u001b[1m1s\u001b[0m 10ms/step - composer_output_accuracy: 0.0000e+00 - composer_output_loss: 2.4569 - continuous_output_loss: 1.7680 - continuous_output_mae: 66.0643 - loss: 12175.1035 - midi_pitch_output_accuracy: 0.0015 - midi_pitch_output_loss: 12170.9033 - piece_output_accuracy: 0.9661 - piece_output_loss: 0.0938 - val_composer_output_accuracy: 0.0000e+00 - val_composer_output_loss: 3.3926 - val_continuous_output_loss: 1.7918 - val_continuous_output_mae: 71.4730 - val_loss: 14951.1357 - val_midi_pitch_output_accuracy: 0.0039 - val_midi_pitch_output_loss: 15919.4121 - val_piece_output_accuracy: 0.9458 - val_piece_output_loss: 0.1707\n",
      "Epoch 40/50\n",
      "\u001b[1m81/81\u001b[0m \u001b[32m━━━━━━━━━━━━━━━━━━━━\u001b[0m\u001b[37m\u001b[0m \u001b[1m1s\u001b[0m 10ms/step - composer_output_accuracy: 0.0000e+00 - composer_output_loss: 2.4402 - continuous_output_loss: 1.7725 - continuous_output_mae: 65.4729 - loss: 12075.2861 - midi_pitch_output_accuracy: 0.0011 - midi_pitch_output_loss: 12071.0234 - piece_output_accuracy: 0.9666 - piece_output_loss: 0.1004 - val_composer_output_accuracy: 0.0000e+00 - val_composer_output_loss: 3.4328 - val_continuous_output_loss: 1.7918 - val_continuous_output_mae: 71.5373 - val_loss: 14951.2324 - val_midi_pitch_output_accuracy: 0.0031 - val_midi_pitch_output_loss: 15919.4258 - val_piece_output_accuracy: 0.9520 - val_piece_output_loss: 0.2221\n",
      "Epoch 41/50\n",
      "\u001b[1m81/81\u001b[0m \u001b[32m━━━━━━━━━━━━━━━━━━━━\u001b[0m\u001b[37m\u001b[0m \u001b[1m1s\u001b[0m 10ms/step - composer_output_accuracy: 0.0000e+00 - composer_output_loss: 2.4299 - continuous_output_loss: 1.7611 - continuous_output_mae: 66.5686 - loss: 12398.7354 - midi_pitch_output_accuracy: 9.8256e-04 - midi_pitch_output_loss: 12394.5850 - piece_output_accuracy: 0.9666 - piece_output_loss: 0.0942 - val_composer_output_accuracy: 0.0000e+00 - val_composer_output_loss: 3.4621 - val_continuous_output_loss: 1.7918 - val_continuous_output_mae: 71.4493 - val_loss: 14951.2373 - val_midi_pitch_output_accuracy: 0.0039 - val_midi_pitch_output_loss: 15919.4062 - val_piece_output_accuracy: 0.9373 - val_piece_output_loss: 0.2220\n",
      "Epoch 42/50\n",
      "\u001b[1m81/81\u001b[0m \u001b[32m━━━━━━━━━━━━━━━━━━━━\u001b[0m\u001b[37m\u001b[0m \u001b[1m1s\u001b[0m 10ms/step - composer_output_accuracy: 1.9482e-05 - composer_output_loss: 2.4280 - continuous_output_loss: 1.7548 - continuous_output_mae: 65.9649 - loss: 12164.6387 - midi_pitch_output_accuracy: 0.0018 - midi_pitch_output_loss: 12160.2256 - piece_output_accuracy: 0.9692 - piece_output_loss: 0.0861 - val_composer_output_accuracy: 0.0000e+00 - val_composer_output_loss: 3.3898 - val_continuous_output_loss: 1.7918 - val_continuous_output_mae: 71.3795 - val_loss: 14951.2168 - val_midi_pitch_output_accuracy: 0.0039 - val_midi_pitch_output_loss: 15919.4043 - val_piece_output_accuracy: 0.8963 - val_piece_output_loss: 0.2817\n",
      "Epoch 43/50\n",
      "\u001b[1m81/81\u001b[0m \u001b[32m━━━━━━━━━━━━━━━━━━━━\u001b[0m\u001b[37m\u001b[0m \u001b[1m1s\u001b[0m 10ms/step - composer_output_accuracy: 3.5151e-04 - composer_output_loss: 2.4228 - continuous_output_loss: 1.7454 - continuous_output_mae: 66.4127 - loss: 12281.0078 - midi_pitch_output_accuracy: 8.9094e-04 - midi_pitch_output_loss: 12276.7344 - piece_output_accuracy: 0.9655 - piece_output_loss: 0.0904 - val_composer_output_accuracy: 0.0000e+00 - val_composer_output_loss: 3.5926 - val_continuous_output_loss: 1.7918 - val_continuous_output_mae: 71.3611 - val_loss: 14951.5742 - val_midi_pitch_output_accuracy: 0.0039 - val_midi_pitch_output_loss: 15919.4141 - val_piece_output_accuracy: 0.8026 - val_piece_output_loss: 0.4182\n",
      "Epoch 44/50\n",
      "\u001b[1m81/81\u001b[0m \u001b[32m━━━━━━━━━━━━━━━━━━━━\u001b[0m\u001b[37m\u001b[0m \u001b[1m1s\u001b[0m 11ms/step - composer_output_accuracy: 0.0000e+00 - composer_output_loss: 2.4070 - continuous_output_loss: 1.7525 - continuous_output_mae: 65.7196 - loss: 12085.5273 - midi_pitch_output_accuracy: 9.7441e-04 - midi_pitch_output_loss: 12081.4463 - piece_output_accuracy: 0.9637 - piece_output_loss: 0.0984 - val_composer_output_accuracy: 0.0000e+00 - val_composer_output_loss: 3.4688 - val_continuous_output_loss: 1.7918 - val_continuous_output_mae: 71.4011 - val_loss: 14951.3545 - val_midi_pitch_output_accuracy: 0.0031 - val_midi_pitch_output_loss: 15919.4062 - val_piece_output_accuracy: 0.8498 - val_piece_output_loss: 0.3544\n",
      "Epoch 45/50\n",
      "\u001b[1m81/81\u001b[0m \u001b[32m━━━━━━━━━━━━━━━━━━━━\u001b[0m\u001b[37m\u001b[0m \u001b[1m1s\u001b[0m 11ms/step - composer_output_accuracy: 0.0000e+00 - composer_output_loss: 2.4064 - continuous_output_loss: 1.7580 - continuous_output_mae: 65.3569 - loss: 11968.6914 - midi_pitch_output_accuracy: 0.0010 - midi_pitch_output_loss: 11964.2109 - piece_output_accuracy: 0.9655 - piece_output_loss: 0.0899 - val_composer_output_accuracy: 0.0000e+00 - val_composer_output_loss: 3.5253 - val_continuous_output_loss: 1.7918 - val_continuous_output_mae: 71.4261 - val_loss: 14951.4609 - val_midi_pitch_output_accuracy: 0.0031 - val_midi_pitch_output_loss: 15919.3896 - val_piece_output_accuracy: 0.8158 - val_piece_output_loss: 0.4091\n",
      "Epoch 46/50\n",
      "\u001b[1m81/81\u001b[0m \u001b[32m━━━━━━━━━━━━━━━━━━━━\u001b[0m\u001b[37m\u001b[0m \u001b[1m1s\u001b[0m 10ms/step - composer_output_accuracy: 0.0000e+00 - composer_output_loss: 2.3921 - continuous_output_loss: 1.7450 - continuous_output_mae: 66.2916 - loss: 12244.1191 - midi_pitch_output_accuracy: 6.8395e-04 - midi_pitch_output_loss: 12239.8975 - piece_output_accuracy: 0.9693 - piece_output_loss: 0.0896 - val_composer_output_accuracy: 0.0000e+00 - val_composer_output_loss: 3.6019 - val_continuous_output_loss: 1.7918 - val_continuous_output_mae: 71.3490 - val_loss: 14951.6289 - val_midi_pitch_output_accuracy: 0.0039 - val_midi_pitch_output_loss: 15919.4043 - val_piece_output_accuracy: 0.7918 - val_piece_output_loss: 0.4681\n",
      "Epoch 47/50\n",
      "\u001b[1m81/81\u001b[0m \u001b[32m━━━━━━━━━━━━━━━━━━━━\u001b[0m\u001b[37m\u001b[0m \u001b[1m1s\u001b[0m 10ms/step - composer_output_accuracy: 2.2376e-04 - composer_output_loss: 2.3639 - continuous_output_loss: 1.7490 - continuous_output_mae: 65.9791 - loss: 12154.6211 - midi_pitch_output_accuracy: 0.0016 - midi_pitch_output_loss: 12150.3193 - piece_output_accuracy: 0.9705 - piece_output_loss: 0.0799 - val_composer_output_accuracy: 0.0000e+00 - val_composer_output_loss: 3.5751 - val_continuous_output_loss: 1.7918 - val_continuous_output_mae: 71.4316 - val_loss: 14951.5576 - val_midi_pitch_output_accuracy: 0.0039 - val_midi_pitch_output_loss: 15919.4004 - val_piece_output_accuracy: 0.8080 - val_piece_output_loss: 0.4520\n",
      "Epoch 48/50\n",
      "\u001b[1m81/81\u001b[0m \u001b[32m━━━━━━━━━━━━━━━━━━━━\u001b[0m\u001b[37m\u001b[0m \u001b[1m1s\u001b[0m 10ms/step - composer_output_accuracy: 0.0000e+00 - composer_output_loss: 2.3964 - continuous_output_loss: 1.7266 - continuous_output_mae: 65.3445 - loss: 11934.9189 - midi_pitch_output_accuracy: 5.6415e-04 - midi_pitch_output_loss: 11931.1904 - piece_output_accuracy: 0.9671 - piece_output_loss: 0.0835 - val_composer_output_accuracy: 0.0000e+00 - val_composer_output_loss: 3.5628 - val_continuous_output_loss: 1.7918 - val_continuous_output_mae: 71.4080 - val_loss: 14951.3311 - val_midi_pitch_output_accuracy: 0.0039 - val_midi_pitch_output_loss: 15919.4043 - val_piece_output_accuracy: 0.9218 - val_piece_output_loss: 0.2131\n",
      "Epoch 49/50\n",
      "\u001b[1m81/81\u001b[0m \u001b[32m━━━━━━━━━━━━━━━━━━━━\u001b[0m\u001b[37m\u001b[0m \u001b[1m1s\u001b[0m 11ms/step - composer_output_accuracy: 2.7487e-04 - composer_output_loss: 2.3891 - continuous_output_loss: 1.7212 - continuous_output_mae: 66.0379 - loss: 12214.8613 - midi_pitch_output_accuracy: 0.0014 - midi_pitch_output_loss: 12210.7207 - piece_output_accuracy: 0.9675 - piece_output_loss: 0.0867 - val_composer_output_accuracy: 0.0000e+00 - val_composer_output_loss: 3.4167 - val_continuous_output_loss: 1.7918 - val_continuous_output_mae: 71.3386 - val_loss: 14951.2617 - val_midi_pitch_output_accuracy: 0.0031 - val_midi_pitch_output_loss: 15919.5293 - val_piece_output_accuracy: 0.9667 - val_piece_output_loss: 0.1594\n",
      "Epoch 50/50\n",
      "\u001b[1m81/81\u001b[0m \u001b[32m━━━━━━━━━━━━━━━━━━━━\u001b[0m\u001b[37m\u001b[0m \u001b[1m1s\u001b[0m 10ms/step - composer_output_accuracy: 3.5482e-05 - composer_output_loss: 2.3528 - continuous_output_loss: 1.7359 - continuous_output_mae: 65.7839 - loss: 12003.5010 - midi_pitch_output_accuracy: 0.0014 - midi_pitch_output_loss: 11999.4102 - piece_output_accuracy: 0.9707 - piece_output_loss: 0.0811 - val_composer_output_accuracy: 0.0000e+00 - val_composer_output_loss: 3.4874 - val_continuous_output_loss: 1.7918 - val_continuous_output_mae: 71.3375 - val_loss: 14951.2627 - val_midi_pitch_output_accuracy: 0.0031 - val_midi_pitch_output_loss: 15919.3730 - val_piece_output_accuracy: 0.8777 - val_piece_output_loss: 0.2581\n"
     ]
    },
    {
     "data": {
      "text/plain": [
       "<keras.src.callbacks.history.History at 0x13d231d59d0>"
      ]
     },
     "execution_count": 21,
     "metadata": {},
     "output_type": "execute_result"
    }
   ],
   "source": [
    "# Step 9: Train the model\n",
    "model.fit(X_train_seq, \n",
    "          {'continuous_output': y_train_continuous_seq, \n",
    "           'midi_pitch_output': y_train_midi_pitch_seq, \n",
    "           'composer_output': y_train_composer_seq, \n",
    "           'piece_output': y_train_piece_seq},\n",
    "          epochs=50, batch_size=64, validation_data=(X_test_seq, \n",
    "                                                     {'continuous_output': y_test_continuous_seq, \n",
    "                                                      'midi_pitch_output': y_test_midi_pitch_seq, \n",
    "                                                      'composer_output': y_test_composer_seq, \n",
    "                                                      'piece_output': y_test_piece_seq}))"
   ]
  },
  {
   "cell_type": "code",
   "execution_count": 22,
   "metadata": {},
   "outputs": [
    {
     "data": {
      "text/html": [
       "<pre style=\"white-space:pre;overflow-x:auto;line-height:normal;font-family:Menlo,'DejaVu Sans Mono',consolas,'Courier New',monospace\"><span style=\"font-weight: bold\">Model: \"functional\"</span>\n",
       "</pre>\n"
      ],
      "text/plain": [
       "\u001b[1mModel: \"functional\"\u001b[0m\n"
      ]
     },
     "metadata": {},
     "output_type": "display_data"
    },
    {
     "data": {
      "text/html": [
       "<pre style=\"white-space:pre;overflow-x:auto;line-height:normal;font-family:Menlo,'DejaVu Sans Mono',consolas,'Courier New',monospace\">┏━━━━━━━━━━━━━━━━━━━━━┳━━━━━━━━━━━━━━━━━━━┳━━━━━━━━━━━━┳━━━━━━━━━━━━━━━━━━━┓\n",
       "┃<span style=\"font-weight: bold\"> Layer (type)        </span>┃<span style=\"font-weight: bold\"> Output Shape      </span>┃<span style=\"font-weight: bold\">    Param # </span>┃<span style=\"font-weight: bold\"> Connected to      </span>┃\n",
       "┡━━━━━━━━━━━━━━━━━━━━━╇━━━━━━━━━━━━━━━━━━━╇━━━━━━━━━━━━╇━━━━━━━━━━━━━━━━━━━┩\n",
       "│ input_layer         │ (<span style=\"color: #00d7ff; text-decoration-color: #00d7ff\">None</span>, <span style=\"color: #00af00; text-decoration-color: #00af00\">10</span>, <span style=\"color: #00af00; text-decoration-color: #00af00\">6</span>)     │          <span style=\"color: #00af00; text-decoration-color: #00af00\">0</span> │ -                 │\n",
       "│ (<span style=\"color: #0087ff; text-decoration-color: #0087ff\">InputLayer</span>)        │                   │            │                   │\n",
       "├─────────────────────┼───────────────────┼────────────┼───────────────────┤\n",
       "│ lstm (<span style=\"color: #0087ff; text-decoration-color: #0087ff\">LSTM</span>)         │ (<span style=\"color: #00d7ff; text-decoration-color: #00d7ff\">None</span>, <span style=\"color: #00af00; text-decoration-color: #00af00\">10</span>, <span style=\"color: #00af00; text-decoration-color: #00af00\">128</span>)   │     <span style=\"color: #00af00; text-decoration-color: #00af00\">69,120</span> │ input_layer[<span style=\"color: #00af00; text-decoration-color: #00af00\">0</span>][<span style=\"color: #00af00; text-decoration-color: #00af00\">0</span>] │\n",
       "├─────────────────────┼───────────────────┼────────────┼───────────────────┤\n",
       "│ dropout (<span style=\"color: #0087ff; text-decoration-color: #0087ff\">Dropout</span>)   │ (<span style=\"color: #00d7ff; text-decoration-color: #00d7ff\">None</span>, <span style=\"color: #00af00; text-decoration-color: #00af00\">10</span>, <span style=\"color: #00af00; text-decoration-color: #00af00\">128</span>)   │          <span style=\"color: #00af00; text-decoration-color: #00af00\">0</span> │ lstm[<span style=\"color: #00af00; text-decoration-color: #00af00\">0</span>][<span style=\"color: #00af00; text-decoration-color: #00af00\">0</span>]        │\n",
       "├─────────────────────┼───────────────────┼────────────┼───────────────────┤\n",
       "│ lstm_1 (<span style=\"color: #0087ff; text-decoration-color: #0087ff\">LSTM</span>)       │ (<span style=\"color: #00d7ff; text-decoration-color: #00d7ff\">None</span>, <span style=\"color: #00af00; text-decoration-color: #00af00\">128</span>)       │    <span style=\"color: #00af00; text-decoration-color: #00af00\">131,584</span> │ dropout[<span style=\"color: #00af00; text-decoration-color: #00af00\">0</span>][<span style=\"color: #00af00; text-decoration-color: #00af00\">0</span>]     │\n",
       "├─────────────────────┼───────────────────┼────────────┼───────────────────┤\n",
       "│ dropout_1 (<span style=\"color: #0087ff; text-decoration-color: #0087ff\">Dropout</span>) │ (<span style=\"color: #00d7ff; text-decoration-color: #00d7ff\">None</span>, <span style=\"color: #00af00; text-decoration-color: #00af00\">128</span>)       │          <span style=\"color: #00af00; text-decoration-color: #00af00\">0</span> │ lstm_1[<span style=\"color: #00af00; text-decoration-color: #00af00\">0</span>][<span style=\"color: #00af00; text-decoration-color: #00af00\">0</span>]      │\n",
       "├─────────────────────┼───────────────────┼────────────┼───────────────────┤\n",
       "│ continuous_output   │ (<span style=\"color: #00d7ff; text-decoration-color: #00d7ff\">None</span>, <span style=\"color: #00af00; text-decoration-color: #00af00\">6</span>)         │        <span style=\"color: #00af00; text-decoration-color: #00af00\">774</span> │ dropout_1[<span style=\"color: #00af00; text-decoration-color: #00af00\">0</span>][<span style=\"color: #00af00; text-decoration-color: #00af00\">0</span>]   │\n",
       "│ (<span style=\"color: #0087ff; text-decoration-color: #0087ff\">Dense</span>)             │                   │            │                   │\n",
       "├─────────────────────┼───────────────────┼────────────┼───────────────────┤\n",
       "│ midi_pitch_output   │ (<span style=\"color: #00d7ff; text-decoration-color: #00d7ff\">None</span>, <span style=\"color: #00af00; text-decoration-color: #00af00\">6</span>)         │        <span style=\"color: #00af00; text-decoration-color: #00af00\">774</span> │ dropout_1[<span style=\"color: #00af00; text-decoration-color: #00af00\">0</span>][<span style=\"color: #00af00; text-decoration-color: #00af00\">0</span>]   │\n",
       "│ (<span style=\"color: #0087ff; text-decoration-color: #0087ff\">Dense</span>)             │                   │            │                   │\n",
       "├─────────────────────┼───────────────────┼────────────┼───────────────────┤\n",
       "│ composer_output     │ (<span style=\"color: #00d7ff; text-decoration-color: #00d7ff\">None</span>, <span style=\"color: #00af00; text-decoration-color: #00af00\">47</span>)        │      <span style=\"color: #00af00; text-decoration-color: #00af00\">6,063</span> │ dropout_1[<span style=\"color: #00af00; text-decoration-color: #00af00\">0</span>][<span style=\"color: #00af00; text-decoration-color: #00af00\">0</span>]   │\n",
       "│ (<span style=\"color: #0087ff; text-decoration-color: #0087ff\">Dense</span>)             │                   │            │                   │\n",
       "├─────────────────────┼───────────────────┼────────────┼───────────────────┤\n",
       "│ piece_output        │ (<span style=\"color: #00d7ff; text-decoration-color: #00d7ff\">None</span>, <span style=\"color: #00af00; text-decoration-color: #00af00\">8</span>)         │      <span style=\"color: #00af00; text-decoration-color: #00af00\">1,032</span> │ dropout_1[<span style=\"color: #00af00; text-decoration-color: #00af00\">0</span>][<span style=\"color: #00af00; text-decoration-color: #00af00\">0</span>]   │\n",
       "│ (<span style=\"color: #0087ff; text-decoration-color: #0087ff\">Dense</span>)             │                   │            │                   │\n",
       "└─────────────────────┴───────────────────┴────────────┴───────────────────┘\n",
       "</pre>\n"
      ],
      "text/plain": [
       "┏━━━━━━━━━━━━━━━━━━━━━┳━━━━━━━━━━━━━━━━━━━┳━━━━━━━━━━━━┳━━━━━━━━━━━━━━━━━━━┓\n",
       "┃\u001b[1m \u001b[0m\u001b[1mLayer (type)       \u001b[0m\u001b[1m \u001b[0m┃\u001b[1m \u001b[0m\u001b[1mOutput Shape     \u001b[0m\u001b[1m \u001b[0m┃\u001b[1m \u001b[0m\u001b[1m   Param #\u001b[0m\u001b[1m \u001b[0m┃\u001b[1m \u001b[0m\u001b[1mConnected to     \u001b[0m\u001b[1m \u001b[0m┃\n",
       "┡━━━━━━━━━━━━━━━━━━━━━╇━━━━━━━━━━━━━━━━━━━╇━━━━━━━━━━━━╇━━━━━━━━━━━━━━━━━━━┩\n",
       "│ input_layer         │ (\u001b[38;5;45mNone\u001b[0m, \u001b[38;5;34m10\u001b[0m, \u001b[38;5;34m6\u001b[0m)     │          \u001b[38;5;34m0\u001b[0m │ -                 │\n",
       "│ (\u001b[38;5;33mInputLayer\u001b[0m)        │                   │            │                   │\n",
       "├─────────────────────┼───────────────────┼────────────┼───────────────────┤\n",
       "│ lstm (\u001b[38;5;33mLSTM\u001b[0m)         │ (\u001b[38;5;45mNone\u001b[0m, \u001b[38;5;34m10\u001b[0m, \u001b[38;5;34m128\u001b[0m)   │     \u001b[38;5;34m69,120\u001b[0m │ input_layer[\u001b[38;5;34m0\u001b[0m][\u001b[38;5;34m0\u001b[0m] │\n",
       "├─────────────────────┼───────────────────┼────────────┼───────────────────┤\n",
       "│ dropout (\u001b[38;5;33mDropout\u001b[0m)   │ (\u001b[38;5;45mNone\u001b[0m, \u001b[38;5;34m10\u001b[0m, \u001b[38;5;34m128\u001b[0m)   │          \u001b[38;5;34m0\u001b[0m │ lstm[\u001b[38;5;34m0\u001b[0m][\u001b[38;5;34m0\u001b[0m]        │\n",
       "├─────────────────────┼───────────────────┼────────────┼───────────────────┤\n",
       "│ lstm_1 (\u001b[38;5;33mLSTM\u001b[0m)       │ (\u001b[38;5;45mNone\u001b[0m, \u001b[38;5;34m128\u001b[0m)       │    \u001b[38;5;34m131,584\u001b[0m │ dropout[\u001b[38;5;34m0\u001b[0m][\u001b[38;5;34m0\u001b[0m]     │\n",
       "├─────────────────────┼───────────────────┼────────────┼───────────────────┤\n",
       "│ dropout_1 (\u001b[38;5;33mDropout\u001b[0m) │ (\u001b[38;5;45mNone\u001b[0m, \u001b[38;5;34m128\u001b[0m)       │          \u001b[38;5;34m0\u001b[0m │ lstm_1[\u001b[38;5;34m0\u001b[0m][\u001b[38;5;34m0\u001b[0m]      │\n",
       "├─────────────────────┼───────────────────┼────────────┼───────────────────┤\n",
       "│ continuous_output   │ (\u001b[38;5;45mNone\u001b[0m, \u001b[38;5;34m6\u001b[0m)         │        \u001b[38;5;34m774\u001b[0m │ dropout_1[\u001b[38;5;34m0\u001b[0m][\u001b[38;5;34m0\u001b[0m]   │\n",
       "│ (\u001b[38;5;33mDense\u001b[0m)             │                   │            │                   │\n",
       "├─────────────────────┼───────────────────┼────────────┼───────────────────┤\n",
       "│ midi_pitch_output   │ (\u001b[38;5;45mNone\u001b[0m, \u001b[38;5;34m6\u001b[0m)         │        \u001b[38;5;34m774\u001b[0m │ dropout_1[\u001b[38;5;34m0\u001b[0m][\u001b[38;5;34m0\u001b[0m]   │\n",
       "│ (\u001b[38;5;33mDense\u001b[0m)             │                   │            │                   │\n",
       "├─────────────────────┼───────────────────┼────────────┼───────────────────┤\n",
       "│ composer_output     │ (\u001b[38;5;45mNone\u001b[0m, \u001b[38;5;34m47\u001b[0m)        │      \u001b[38;5;34m6,063\u001b[0m │ dropout_1[\u001b[38;5;34m0\u001b[0m][\u001b[38;5;34m0\u001b[0m]   │\n",
       "│ (\u001b[38;5;33mDense\u001b[0m)             │                   │            │                   │\n",
       "├─────────────────────┼───────────────────┼────────────┼───────────────────┤\n",
       "│ piece_output        │ (\u001b[38;5;45mNone\u001b[0m, \u001b[38;5;34m8\u001b[0m)         │      \u001b[38;5;34m1,032\u001b[0m │ dropout_1[\u001b[38;5;34m0\u001b[0m][\u001b[38;5;34m0\u001b[0m]   │\n",
       "│ (\u001b[38;5;33mDense\u001b[0m)             │                   │            │                   │\n",
       "└─────────────────────┴───────────────────┴────────────┴───────────────────┘\n"
      ]
     },
     "metadata": {},
     "output_type": "display_data"
    },
    {
     "data": {
      "text/html": [
       "<pre style=\"white-space:pre;overflow-x:auto;line-height:normal;font-family:Menlo,'DejaVu Sans Mono',consolas,'Courier New',monospace\"><span style=\"font-weight: bold\"> Total params: </span><span style=\"color: #00af00; text-decoration-color: #00af00\">628,043</span> (2.40 MB)\n",
       "</pre>\n"
      ],
      "text/plain": [
       "\u001b[1m Total params: \u001b[0m\u001b[38;5;34m628,043\u001b[0m (2.40 MB)\n"
      ]
     },
     "metadata": {},
     "output_type": "display_data"
    },
    {
     "data": {
      "text/html": [
       "<pre style=\"white-space:pre;overflow-x:auto;line-height:normal;font-family:Menlo,'DejaVu Sans Mono',consolas,'Courier New',monospace\"><span style=\"font-weight: bold\"> Trainable params: </span><span style=\"color: #00af00; text-decoration-color: #00af00\">209,347</span> (817.76 KB)\n",
       "</pre>\n"
      ],
      "text/plain": [
       "\u001b[1m Trainable params: \u001b[0m\u001b[38;5;34m209,347\u001b[0m (817.76 KB)\n"
      ]
     },
     "metadata": {},
     "output_type": "display_data"
    },
    {
     "data": {
      "text/html": [
       "<pre style=\"white-space:pre;overflow-x:auto;line-height:normal;font-family:Menlo,'DejaVu Sans Mono',consolas,'Courier New',monospace\"><span style=\"font-weight: bold\"> Non-trainable params: </span><span style=\"color: #00af00; text-decoration-color: #00af00\">0</span> (0.00 B)\n",
       "</pre>\n"
      ],
      "text/plain": [
       "\u001b[1m Non-trainable params: \u001b[0m\u001b[38;5;34m0\u001b[0m (0.00 B)\n"
      ]
     },
     "metadata": {},
     "output_type": "display_data"
    },
    {
     "data": {
      "text/html": [
       "<pre style=\"white-space:pre;overflow-x:auto;line-height:normal;font-family:Menlo,'DejaVu Sans Mono',consolas,'Courier New',monospace\"><span style=\"font-weight: bold\"> Optimizer params: </span><span style=\"color: #00af00; text-decoration-color: #00af00\">418,696</span> (1.60 MB)\n",
       "</pre>\n"
      ],
      "text/plain": [
       "\u001b[1m Optimizer params: \u001b[0m\u001b[38;5;34m418,696\u001b[0m (1.60 MB)\n"
      ]
     },
     "metadata": {},
     "output_type": "display_data"
    }
   ],
   "source": [
    "model.summary()"
   ]
  },
  {
   "cell_type": "code",
   "execution_count": 24,
   "metadata": {},
   "outputs": [],
   "source": [
    "model.save('trained_model.keras')"
   ]
  }
 ],
 "metadata": {
  "kernelspec": {
   "display_name": "Python 3",
   "language": "python",
   "name": "python3"
  },
  "language_info": {
   "codemirror_mode": {
    "name": "ipython",
    "version": 3
   },
   "file_extension": ".py",
   "mimetype": "text/x-python",
   "name": "python",
   "nbconvert_exporter": "python",
   "pygments_lexer": "ipython3",
   "version": "3.11.10"
  }
 },
 "nbformat": 4,
 "nbformat_minor": 2
}
